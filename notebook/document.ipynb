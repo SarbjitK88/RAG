{
 "cells": [
  {
   "cell_type": "markdown",
   "id": "5646972e",
   "metadata": {},
   "source": [
    "### Data Ingestion"
   ]
  },
  {
   "cell_type": "code",
   "execution_count": 11,
   "id": "4f49f6f9",
   "metadata": {},
   "outputs": [],
   "source": [
    "### document datastructure using Langchain\n",
    "from langchain_core.documents import Document"
   ]
  },
  {
   "cell_type": "code",
   "execution_count": 2,
   "id": "49ed4b30",
   "metadata": {},
   "outputs": [
    {
     "data": {
      "text/plain": [
       "Document(metadata={'source': 'example.txt', 'author': 'Sarbjit Kaur', 'page': 1, 'date_created': '2024-10-01'}, page_content='This is the main text content used to create the RAG.')"
      ]
     },
     "execution_count": 2,
     "metadata": {},
     "output_type": "execute_result"
    }
   ],
   "source": [
    "doc = Document(page_content=\"This is the main text content used to create the RAG.\", \n",
    "               metadata={\n",
    "                   \"source\": \"example.txt\",\n",
    "                   \"author\": \"Sarbjit Kaur\",\n",
    "                   \"page\": 1,\n",
    "                   \"date_created\": \"2024-10-01\"\n",
    "                   }\n",
    "               )\n",
    "doc"
   ]
  },
  {
   "cell_type": "code",
   "execution_count": 5,
   "id": "98ddbc7a",
   "metadata": {},
   "outputs": [],
   "source": [
    "import os"
   ]
  },
  {
   "cell_type": "markdown",
   "id": "7ebcf225",
   "metadata": {},
   "source": [
    "Making Directories"
   ]
  },
  {
   "cell_type": "code",
   "execution_count": 6,
   "id": "d25533d3",
   "metadata": {},
   "outputs": [],
   "source": [
    "os.makedirs('../data/text_files', exist_ok=True)\n",
    "os.makedirs('../data/pdf_files', exist_ok=True)\n",
    "os.makedirs('../data/csv_files', exist_ok=True)"
   ]
  },
  {
   "cell_type": "markdown",
   "id": "5f5f72fa",
   "metadata": {},
   "source": [
    "Text Loader"
   ]
  },
  {
   "cell_type": "code",
   "execution_count": 16,
   "id": "e34128cf",
   "metadata": {},
   "outputs": [
    {
     "name": "stdout",
     "output_type": "stream",
     "text": [
      "[Document(metadata={'source': '../data/text_files/medlineplus_style_diabetes_overview.txt'}, page_content='Diabetes Mellitus: Plain-Language Overview (for RAG demo)\\n--------------------------------------------------------\\nSummary\\nDiabetes is a long-term condition where the body cannot regulate blood glucose effectively. There are two common types:\\n- Type 1 diabetes: the pancreas makes little or no insulin.\\n- Type 2 diabetes: the body does not use insulin well (insulin resistance) and may not make enough insulin over time.\\n\\nKey Signs and Symptoms\\n- Increased thirst and urination\\n- Unexplained weight loss (more common in type 1)\\n- Fatigue and blurred vision\\n- Slow healing of cuts and infections\\n\\nDiagnosis (typical clinical thresholds)\\n- HbA1c ≥ 48 mmol/mol (6.5%) on a lab-standardised test\\n- Fasting plasma glucose ≥ 7.0 mmol/L (126 mg/dL)\\n- 2‑hour oral glucose tolerance test ≥ 11.1 mmol/L (200 mg/dL)\\n- A random plasma glucose ≥ 11.1 mmol/L (200 mg/dL) with classic symptoms\\n\\nFirst-Line Management (type 2)\\n- Lifestyle: balanced diet, weight management, regular physical activity\\n- Medication: metformin is often first line unless contraindicated\\n- Monitoring: HbA1c every 3–6 months until stable, then at least twice yearly\\n\\nRisks of Poor Control\\n- Microvascular: retinopathy, nephropathy, neuropathy\\n- Macrovascular: cardiovascular disease (heart attack, stroke)\\n- Acute emergencies: diabetic ketoacidosis (DKA), hyperosmolar hyperglycaemic state (HHS)\\n\\nSick Day Rules (high-level)\\n- Maintain hydration, monitor glucose more frequently\\n- Seek urgent help with persistent vomiting, severe hyperglycaemia, or ketones\\n\\nNote: This text is an educational summary authored for a RAG technical demo. It is not clinical advice.\\n')]\n"
     ]
    }
   ],
   "source": [
    "from langchain_community.document_loaders import TextLoader\n",
    "\n",
    "loader = TextLoader('../data/text_files/medlineplus_style_diabetes_overview.txt', encoding='utf-8')\n",
    "documents = loader.load()\n",
    "print(documents)"
   ]
  },
  {
   "cell_type": "markdown",
   "id": "aea9d8e1",
   "metadata": {},
   "source": [
    "Dorectory Loader"
   ]
  },
  {
   "cell_type": "code",
   "execution_count": 21,
   "id": "79312f9f",
   "metadata": {},
   "outputs": [
    {
     "name": "stdout",
     "output_type": "stream",
     "text": [
      "Total documents loaded from directory: 3\n"
     ]
    }
   ],
   "source": [
    "from langchain_community.document_loaders import DirectoryLoader\n",
    "\n",
    "dir_loader = DirectoryLoader(\n",
    "    '../data/text_files', \n",
    "    glob='*.txt', \n",
    "    loader_cls=TextLoader, \n",
    "    loader_kwargs={'encoding': 'utf-8'}\n",
    "    )\n",
    "\n",
    "dir_documents = dir_loader.load()\n",
    "\n",
    "#print(dir_documents)\n",
    "print(f\"Total documents loaded from directory: {len(dir_documents)}\")"
   ]
  },
  {
   "cell_type": "markdown",
   "id": "6ddd6556",
   "metadata": {},
   "source": [
    "PDF Loader"
   ]
  },
  {
   "cell_type": "code",
   "execution_count": 28,
   "id": "cca84e47",
   "metadata": {},
   "outputs": [
    {
     "name": "stdout",
     "output_type": "stream",
     "text": [
      "Total PDF documents loaded from directory: 157\n"
     ]
    }
   ],
   "source": [
    "from langchain_community.document_loaders import PyMuPDFLoader\n",
    "\n",
    "# load all pdf files from the directory\n",
    "pdf_loader = DirectoryLoader(\n",
    "    '../data/pdf_files', \n",
    "    glob='*.pdf', \n",
    "    loader_cls=PyMuPDFLoader\n",
    "    )\n",
    "pdf_documents = pdf_loader.load()\n",
    "\n",
    "print(f\"Total PDF documents loaded from directory: {len(pdf_documents)}\")\n"
   ]
  },
  {
   "cell_type": "markdown",
   "id": "683e5e90",
   "metadata": {},
   "source": []
  }
 ],
 "metadata": {
  "kernelspec": {
   "display_name": "rag",
   "language": "python",
   "name": "python3"
  },
  "language_info": {
   "codemirror_mode": {
    "name": "ipython",
    "version": 3
   },
   "file_extension": ".py",
   "mimetype": "text/x-python",
   "name": "python",
   "nbconvert_exporter": "python",
   "pygments_lexer": "ipython3",
   "version": "3.13.9"
  }
 },
 "nbformat": 4,
 "nbformat_minor": 5
}
