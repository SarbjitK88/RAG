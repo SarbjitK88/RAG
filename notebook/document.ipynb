{
 "cells": [
  {
   "cell_type": "markdown",
   "id": "5646972e",
   "metadata": {},
   "source": [
    "Data Ingestion"
   ]
  },
  {
   "cell_type": "code",
   "execution_count": 1,
   "id": "4f49f6f9",
   "metadata": {},
   "outputs": [],
   "source": [
    "### document datastructure using Langchain\n",
    "from langchain_core.documents import Document"
   ]
  },
  {
   "cell_type": "code",
   "execution_count": 2,
   "id": "49ed4b30",
   "metadata": {},
   "outputs": [
    {
     "data": {
      "text/plain": [
       "Document(metadata={'source': 'example.txt', 'author': 'Sarbjit Kaur', 'page': 1, 'date_created': '2024-10-01'}, page_content='This is the main text content used to create the RAG.')"
      ]
     },
     "execution_count": 2,
     "metadata": {},
     "output_type": "execute_result"
    }
   ],
   "source": [
    "doc = Document(page_content=\"This is the main text content used to create the RAG.\", \n",
    "               metadata={\n",
    "                   \"source\": \"example.txt\",\n",
    "                   \"author\": \"Sarbjit Kaur\",\n",
    "                   \"page\": 1,\n",
    "                   \"date_created\": \"2024-10-01\"\n",
    "                   }\n",
    "               )\n",
    "doc"
   ]
  },
  {
   "cell_type": "code",
   "execution_count": 3,
   "id": "98ddbc7a",
   "metadata": {},
   "outputs": [],
   "source": [
    "import os"
   ]
  },
  {
   "cell_type": "code",
   "execution_count": 6,
   "id": "d25533d3",
   "metadata": {},
   "outputs": [],
   "source": [
    "os.makedirs('../data/text_files', exist_ok=True)\n",
    "os.makedirs('../data/pdf_files', exist_ok=True)"
   ]
  }
 ],
 "metadata": {
  "kernelspec": {
   "display_name": "rag",
   "language": "python",
   "name": "python3"
  },
  "language_info": {
   "codemirror_mode": {
    "name": "ipython",
    "version": 3
   },
   "file_extension": ".py",
   "mimetype": "text/x-python",
   "name": "python",
   "nbconvert_exporter": "python",
   "pygments_lexer": "ipython3",
   "version": "3.13.9"
  }
 },
 "nbformat": 4,
 "nbformat_minor": 5
}
